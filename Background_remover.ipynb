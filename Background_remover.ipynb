{
 "cells": [
  {
   "cell_type": "code",
   "execution_count": 1,
   "id": "3597cfc5",
   "metadata": {},
   "outputs": [],
   "source": [
    "from rembg import remove"
   ]
  },
  {
   "cell_type": "code",
   "execution_count": 2,
   "id": "8ad6b8f1",
   "metadata": {},
   "outputs": [],
   "source": [
    "input_path = 'C:\\\\Users\\\\User\\\\Desktop\\\\Research_static_webpage\\\\Images\\\\visual studio code.jpg'\n",
    "output_path = 'C:\\\\Users\\\\User\\\\Desktop\\\\Research_static_webpage\\\\Images\\\\visual studio code_upd.jpg'"
   ]
  },
  {
   "cell_type": "code",
   "execution_count": 4,
   "id": "d9f09faa",
   "metadata": {},
   "outputs": [
    {
     "name": "stderr",
     "output_type": "stream",
     "text": [
      "Downloading data from 'https://github.com/danielgatis/rembg/releases/download/v0.0.0/u2net.onnx' to file 'C:\\Users\\User\\.u2net\\u2net.onnx'.\n",
      "100%|########################################| 176M/176M [00:00<00:00, 176GB/s]\n"
     ]
    }
   ],
   "source": [
    "with open(input_path, 'rb') as i:\n",
    "    with open(output_path, 'wb') as o:\n",
    "        input = i.read()\n",
    "        output = remove(input)\n",
    "        o.write(output)"
   ]
  },
  {
   "cell_type": "code",
   "execution_count": null,
   "id": "23a809f7",
   "metadata": {},
   "outputs": [],
   "source": []
  }
 ],
 "metadata": {
  "kernelspec": {
   "display_name": "Python 3 (ipykernel)",
   "language": "python",
   "name": "python3"
  },
  "language_info": {
   "codemirror_mode": {
    "name": "ipython",
    "version": 3
   },
   "file_extension": ".py",
   "mimetype": "text/x-python",
   "name": "python",
   "nbconvert_exporter": "python",
   "pygments_lexer": "ipython3",
   "version": "3.9.18"
  }
 },
 "nbformat": 4,
 "nbformat_minor": 5
}
