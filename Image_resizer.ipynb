{
 "cells": [
  {
   "cell_type": "code",
   "execution_count": 1,
   "id": "3597cfc5",
   "metadata": {},
   "outputs": [],
   "source": [
    "import cv2"
   ]
  },
  {
   "cell_type": "code",
   "execution_count": 2,
   "id": "8ad6b8f1",
   "metadata": {},
   "outputs": [],
   "source": [
    "image = cv2.imread(\"C:\\\\Users\\\\User\\\\Desktop\\\\New folder\\\\Research-Webpage\\\\Images\\\\Ihshan.jpg\")"
   ]
  },
  {
   "cell_type": "code",
   "execution_count": 3,
   "id": "e1ce9351",
   "metadata": {},
   "outputs": [],
   "source": [
    "# Define the desired width and height\n",
    "width = 410  # Specify the width you want\n",
    "height = 450  # Specify the height you want"
   ]
  },
  {
   "cell_type": "code",
   "execution_count": 4,
   "id": "d9f09faa",
   "metadata": {},
   "outputs": [],
   "source": [
    "# Resize the image to a common size\n",
    "image = cv2.resize(image, (width, height))"
   ]
  },
  {
   "cell_type": "code",
   "execution_count": 5,
   "id": "a28374ca",
   "metadata": {},
   "outputs": [],
   "source": [
    "# Save the resized image to a file\n",
    "output_file = \"C:\\\\Users\\\\User\\\\Desktop\\\\New folder\\\\Research-Webpage\\\\Images\\\\Resized_Image.jpg\"\n",
    "cv2.imwrite(output_file, image)\n",
    "\n",
    "# Release any resources (optional but recommended)\n",
    "cv2.destroyAllWindows()"
   ]
  }
 ],
 "metadata": {
  "kernelspec": {
   "display_name": "Python 3 (ipykernel)",
   "language": "python",
   "name": "python3"
  },
  "language_info": {
   "codemirror_mode": {
    "name": "ipython",
    "version": 3
   },
   "file_extension": ".py",
   "mimetype": "text/x-python",
   "name": "python",
   "nbconvert_exporter": "python",
   "pygments_lexer": "ipython3",
   "version": "3.9.18"
  }
 },
 "nbformat": 4,
 "nbformat_minor": 5
}
